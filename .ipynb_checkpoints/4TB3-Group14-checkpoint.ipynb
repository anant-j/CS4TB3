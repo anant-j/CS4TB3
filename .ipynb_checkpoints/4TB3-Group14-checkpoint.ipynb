{
 "cells": [
  {
   "cell_type": "markdown",
   "metadata": {
    "deletable": false,
    "editable": false
   },
   "source": [
    "## Welcome to CS4TB3 Group 14 Final Project Demo\n",
    "\n",
    "### Via this application, we aim to convert Regular Expressions into Simplified Natural Language"
   ]
  },
  {
   "cell_type": "code",
   "execution_count": 13,
   "metadata": {
    "ExecuteTime": {
     "end_time": "2022-04-10T18:15:54.936160Z",
     "start_time": "2022-04-10T18:15:54.911563Z"
    },
    "deletable": false
   },
   "outputs": [],
   "source": [
    "# Setting up API\n",
    "import requests\n",
    "baseURL = \"https://vxk4urue7yyomdrnme22wjqqku0fgmxc.lambda-url.us-east-1.on.aws/\"\n",
    "\n",
    "# Auxiliary Methods:\n",
    "def extractPatternData(patterns):\n",
    "    if(patterns[\"minimumLength\"] == 0):\n",
    "        print(\"Empty string is allowed\")\n",
    "    else:\n",
    "        print(f\"Minimum length of generated string is {patterns['minimumLength']}\")\n",
    "    for char in patterns[\"proceeding\"]:\n",
    "        outStr = \"\"\n",
    "        outStr = f\"Character '{char}' can only appear after Character '{patterns['proceeding'][char]['prev']}\"\n",
    "        if(patterns[\"proceeding\"][char]['start']):\n",
    "            outStr += \" or start of the string\"\n",
    "    for char in patterns[\"preceeding\"]:\n",
    "        outStr = \"\"\n",
    "        outStr = f\"Character '{char}' can only appear before Character '{patterns['preceeding'][char]['next']}\"\n",
    "        if(patterns[\"preceeding\"][char]['end']):\n",
    "            outStr += \" or end of the string\"\n",
    "    for char in patterns[\"oddEven\"][\"odd\"]:\n",
    "        print(f\"Occurrences of '{char}' is always odd\")\n",
    "    for char in patterns[\"oddEven\"][\"even\"]:\n",
    "        print(f\"Occurrences of '{char}' is always even\")\n",
    "    if(patterns[\"popularPatterns\"][\"emails\"]):\n",
    "        print(\"Regex is similar to commonly used email validation regex\")\n",
    "    if(patterns[\"popularPatterns\"][\"phone\"]):\n",
    "        print(\"Regex is similar to commonly used phone number validation regex\")\n",
    "        \n",
    "        \n",
    "def convertRegexToNL(regexInput = None):\n",
    "    while(not regexInput):\n",
    "        print(\"Please enter a regex to convert:\")\n",
    "        regexInput = input()\n",
    "    print(\"Please Wait\")\n",
    "    requestBody = {\"input\": regexInput}\n",
    "#     print(repr(regexInput))\n",
    "    x = requests.post(baseURL, data = requestBody)\n",
    "    if(x.status_code == 200):\n",
    "        data = x.json()\n",
    "        print(f\"Constuction Breakdown:\\n{data['explanation']}\")\n",
    "        print(f\"Size of generated sample set: {len(data['permutations'])}\")\n",
    "        print(\"Patterns:\")\n",
    "        extractPatternData(data[\"patterns\"])\n",
    "    else:\n",
    "        print(\"An unexpected error occurred, please try again later\")"
   ]
  },
  {
   "cell_type": "code",
   "execution_count": null,
   "metadata": {
    "ExecuteTime": {
     "end_time": "2022-04-10T17:53:40.796256Z",
     "start_time": "2022-04-10T17:53:37.843429Z"
    },
    "deletable": false
   },
   "outputs": [],
   "source": [
    "convertRegexToNL()"
   ]
  },
  {
   "cell_type": "code",
   "execution_count": 14,
   "metadata": {
    "ExecuteTime": {
     "end_time": "2022-04-10T18:15:58.310328Z",
     "start_time": "2022-04-10T18:15:56.985962Z"
    },
    "deletable": false
   },
   "outputs": [
    {
     "name": "stdout",
     "output_type": "stream",
     "text": [
      "Please Wait\n",
      "Constuction Breakdown:\n",
      "Character: a \n",
      "Repeated between 0 to infinite times : b\n",
      "\n",
      "Repeated between 1 to infinite times : (One of: (a,bc))\n",
      "\n",
      "Size of generated sample set: 150\n",
      "Patterns:\n",
      "Minimum length of generated string is 2\n"
     ]
    }
   ],
   "source": [
    "convertRegexToNL(\"ab*(a|bc)+\")"
   ]
  },
  {
   "cell_type": "code",
   "execution_count": 16,
   "metadata": {
    "ExecuteTime": {
     "end_time": "2022-04-10T18:17:15.632286Z",
     "start_time": "2022-04-10T18:17:15.182313Z"
    }
   },
   "outputs": [
    {
     "name": "stdout",
     "output_type": "stream",
     "text": [
      "Please Wait\n",
      "Constuction Breakdown:\n",
      "Character: b Character: a (One of: (abb,abab,abba,baba))\n",
      "Repeated between 0 to 1 times : (a)\n",
      "\n",
      "Size of generated sample set: 7\n",
      "Patterns:\n",
      "Minimum length of generated string is 5\n",
      "Occurrences of 'b' is always odd\n"
     ]
    }
   ],
   "source": [
    "convertRegexToNL(\"ba(abb|abab|abba|baba)(a)?\")"
   ]
  },
  {
   "cell_type": "code",
   "execution_count": null,
   "metadata": {},
   "outputs": [],
   "source": []
  }
 ],
 "metadata": {
  "celltoolbar": "Edit Metadata",
  "kernelspec": {
   "display_name": "Python 3 (ipykernel)",
   "language": "python",
   "name": "python3"
  },
  "language_info": {
   "codemirror_mode": {
    "name": "ipython",
    "version": 3
   },
   "file_extension": ".py",
   "mimetype": "text/x-python",
   "name": "python",
   "nbconvert_exporter": "python",
   "pygments_lexer": "ipython3",
   "version": "3.9.0"
  }
 },
 "nbformat": 4,
 "nbformat_minor": 2
}
