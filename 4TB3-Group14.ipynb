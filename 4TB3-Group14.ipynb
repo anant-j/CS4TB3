{
 "cells": [
  {
   "cell_type": "markdown",
   "metadata": {
    "deletable": false,
    "editable": false
   },
   "source": [
    "## Welcome to CS4TB3 Group 14 Final Project Demo\n",
    "\n",
    "### Via this application, we aim to convert Regular Expressions into Simplified Natural Language"
   ]
  },
  {
   "cell_type": "code",
   "execution_count": null,
   "metadata": {
    "deletable": false,
    "editable": false
   },
   "outputs": [],
   "source": [
    "!pip install -q pydot"
   ]
  },
  {
   "cell_type": "code",
   "execution_count": null,
   "metadata": {
    "deletable": false,
    "editable": false
   },
   "outputs": [],
   "source": [
    "# Setup for Prefix Tree (Trie) generation and graph visualization \n",
    "import json\n",
    "import pydot\n",
    "from IPython.display import Image, display\n",
    "\n",
    "def view_pydot(pdot):\n",
    "    plt = Image(pdot.create_png())\n",
    "    display(plt)\n",
    "\n",
    "# Function to return a new dict template\n",
    "def struct():\n",
    "    struct = {\n",
    "        'iw': 'False'\n",
    "    }\n",
    "    return struct\n",
    "\n",
    "# Make Trie out of words\n",
    "# Sorted by length, then 10 shortest valid regex outputs chosen\n",
    "def make_trie(words):\n",
    "    tmp_s = struct()\n",
    "    root = tmp_s\n",
    "    words.sort(key=len)\n",
    "    words = words[0:10]\n",
    "    for word in words:\n",
    "        for c in word:\n",
    "            if c not in tmp_s:\n",
    "                tmp_s[c] = struct()\n",
    "            tmp_s = tmp_s[c]\n",
    "        tmp_s['iw'] = 'True'\n",
    "        tmp_s = root\n",
    "        cur_word = []\n",
    "    return root\n",
    "\n",
    "# Code borrowed from: https://github.com/ahmednooor/trie_graph with minor modifications\n",
    "counter = 0\n",
    "def genTree(words):\n",
    "    global counter\n",
    "    rt = {'root': make_trie(words)}\n",
    "    counter = 0\n",
    "    def draw(parent_name, child_name):\n",
    "        global counter\n",
    "        counter += 1\n",
    "        p_n = parent_name\n",
    "        c_n = child_name\n",
    "        graph.add_node(pydot.Node(p_n, label=parent_name.split('_')[0]))\n",
    "        graph.add_node(pydot.Node(c_n, label=child_name.split('_')[0]))\n",
    "        edge = pydot.Edge(p_n, c_n)\n",
    "        graph.add_edge(edge)\n",
    "\n",
    "    def visit(node, parent=None):\n",
    "        global counter\n",
    "        for k,v in node.items():\n",
    "            if isinstance(v, dict):\n",
    "                # We start with the root node whose parent is None\n",
    "                # we don't want to graph the None node\n",
    "                k = k + '_' + str(counter)\n",
    "                if parent:\n",
    "                    draw(parent, k)\n",
    "                visit(v, k)\n",
    "            else:\n",
    "                # drawing the label using a distinct name\n",
    "                v = v + '_' + str(counter)\n",
    "                draw(parent, v)\n",
    "\n",
    "    graph = pydot.Dot(graph_type='digraph')\n",
    "    visit(rt)\n",
    "    plt = Image(graph.create_png())\n",
    "    display(plt)"
   ]
  },
  {
   "cell_type": "code",
   "execution_count": null,
   "metadata": {
    "deletable": false,
    "editable": false
   },
   "outputs": [],
   "source": [
    "# Setting up API\n",
    "import requests\n",
    "baseURL = \"https://vxk4urue7yyomdrnme22wjqqku0fgmxc.lambda-url.us-east-1.on.aws/\"\n",
    "\n",
    "# Auxiliary Methods:\n",
    "def extractPatternData(patterns):\n",
    "    if(patterns[\"minimumLength\"] == 0):\n",
    "        print(\"Empty string is allowed\")\n",
    "    else:\n",
    "        print(f\"Minimum length of generated string is {patterns['minimumLength']}\")\n",
    "    for char in patterns[\"proceeding\"]:\n",
    "        outStr = \"\"\n",
    "        outStr = f\"Character '{char}' can only appear after Character '{patterns['proceeding'][char]['prev']}'\"\n",
    "        if(patterns[\"proceeding\"][char]['start']):\n",
    "            outStr += \" or start of the string\"\n",
    "        print(outStr)\n",
    "    for char in patterns[\"preceeding\"]:\n",
    "        outStr = \"\"\n",
    "        outStr = f\"Character '{char}' can only appear before Character '{patterns['preceeding'][char]['next']}'\"\n",
    "        if(patterns[\"preceeding\"][char]['end']):\n",
    "            outStr += \" or end of the string\"\n",
    "        print(outStr)\n",
    "    for char in patterns[\"oddEven\"][\"odd\"]:\n",
    "        print(f\"Occurrences of '{char}' is always odd\")\n",
    "    for char in patterns[\"oddEven\"][\"even\"]:\n",
    "        print(f\"Occurrences of '{char}' is always even\")\n",
    "    if(patterns[\"popularPatterns\"][\"emails\"]):\n",
    "        print(\"Regex is similar to commonly used email validation regex\")\n",
    "    if(patterns[\"popularPatterns\"][\"phone\"]):\n",
    "        print(\"Regex is similar to commonly used phone number validation regex\")\n",
    "        \n",
    "        \n",
    "def convertRegexToNL(regexInput = None):\n",
    "    while(not regexInput):\n",
    "        print(\"Please enter a regex to convert:\")\n",
    "        regexInput = input()\n",
    "    print(\"Please Wait\")\n",
    "    requestBody = {\"input\": regexInput}\n",
    "    x = requests.post(baseURL, data = requestBody)\n",
    "    if(x.status_code == 200):\n",
    "        data = x.json()\n",
    "        print(f\"Constuction Breakdown:\\n{data['explanation']}\")\n",
    "        print(f\"Size of generated sample set: {len(data['permutations'])}\")\n",
    "        print(\"Patterns:\")\n",
    "        extractPatternData(data[\"patterns\"])\n",
    "        print(\"Prefix Tree:\")\n",
    "        genTree(data['permutations'])\n",
    "    else:\n",
    "        print(\"An unexpected error occurred, please try again later\")"
   ]
  },
  {
   "cell_type": "code",
   "execution_count": null,
   "metadata": {
    "deletable": false,
    "editable": false,
    "scrolled": false
   },
   "outputs": [],
   "source": [
    "def demo():\n",
    "    print(\"------------------------\\n Select a number below to run the following examples:\", flush = True)\n",
    "    print(\"\"\"\n",
    "    1. ab*(a|bc)+\n",
    "    2. ba(abb|abab|abba|baba)(a)?\n",
    "    3. Your own (Enter 3, then enter regex when prompted)\n",
    "          \"\"\", flush = True)\n",
    "    userInput = input()\n",
    "    while(not userInput):\n",
    "        print(\"Please select a number to continue:\")\n",
    "        userInput = input()\n",
    "    userInput = int(userInput)\n",
    "    if(userInput == 1):\n",
    "        convertRegexToNL(\"ab*(a|bc)+\")\n",
    "    elif(userInput == 2):\n",
    "        convertRegexToNL(\"ba(abb|abab|abba|baba)(a)?\")\n",
    "    elif(userInput == 3):\n",
    "        convertRegexToNL()"
   ]
  },
  {
   "cell_type": "code",
   "execution_count": null,
   "metadata": {
    "editable": false
   },
   "outputs": [],
   "source": [
    "demo()"
   ]
  }
 ],
 "metadata": {
  "celltoolbar": "Edit Metadata",
  "kernelspec": {
   "display_name": "Python 3 (ipykernel)",
   "language": "python",
   "name": "python3"
  },
  "language_info": {
   "codemirror_mode": {
    "name": "ipython",
    "version": 3
   },
   "file_extension": ".py",
   "mimetype": "text/x-python",
   "name": "python",
   "nbconvert_exporter": "python",
   "pygments_lexer": "ipython3",
   "version": "3.9.0"
  }
 },
 "nbformat": 4,
 "nbformat_minor": 2
}
